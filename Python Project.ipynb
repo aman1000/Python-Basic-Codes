{
 "cells": [
  {
   "cell_type": "code",
   "execution_count": 1,
   "metadata": {},
   "outputs": [],
   "source": [
    "import random as rd"
   ]
  },
  {
   "cell_type": "markdown",
   "metadata": {},
   "source": [
    "# 1. Decision Construct"
   ]
  },
  {
   "cell_type": "code",
   "execution_count": 2,
   "metadata": {},
   "outputs": [
    {
     "name": "stdout",
     "output_type": "stream",
     "text": [
      "Enter your guess between 1 and 100:45\n",
      "Lower Number guessed\n"
     ]
    }
   ],
   "source": [
    "guess=int(input(\"Enter your guess between 1 and 100:\"))\n",
    "num=rd.randint(1,101)\n",
    "if guess<num:\n",
    "    print(\"Lower Number guessed\")\n",
    "elif guess>num:\n",
    "    print(\"Higher Number guessed\")\n",
    "else:                              #the number you enter and random no. is matched\n",
    "    print(\"Congrats! your Number matched\")"
   ]
  },
  {
   "cell_type": "markdown",
   "metadata": {},
   "source": [
    "# 2. Looping Construct "
   ]
  },
  {
   "cell_type": "code",
   "execution_count": null,
   "metadata": {},
   "outputs": [],
   "source": [
    "count=0\n",
    "guess=0\n",
    "num=rd.randint(1,101)\n",
    "while(guess!=num):\n",
    "    guess=int(input(\"Enter your guess between 1 and 100:\"))\n",
    "    if guess<num:\n",
    "        print(\"Lower Number Guessed\")\n",
    "    elif guess>num:\n",
    "        print(\"Higher Number Guessed\")\n",
    "    else:\n",
    "        print(\"Congrats!Your Number Matched\")\n",
    "        break\n",
    "    count=count+1\n",
    "print(\"You took \"+ str(count) + \" steps to guess right number\")"
   ]
  },
  {
   "cell_type": "markdown",
   "metadata": {},
   "source": [
    "# 3. Functions"
   ]
  },
  {
   "cell_type": "code",
   "execution_count": 5,
   "metadata": {},
   "outputs": [
    {
     "name": "stdout",
     "output_type": "stream",
     "text": [
      "Enter your guess between 1 and 100:34\n",
      "Higher Number Guessed\n",
      "Enter your guess between 1 and 100:23\n",
      "Lower Number Guessed\n",
      "Enter your guess between 1 and 100:27\n",
      "Higher Number Guessed\n",
      "Enter your guess between 1 and 100:25\n",
      "Congrats!Your Number Matched\n",
      "You took 3 steps to guess right number\n",
      "computer took 5 steps!\n"
     ]
    }
   ],
   "source": [
    "def cpuguess(lowval,highval,randnum,count=0):\n",
    "    if highval>=lowval:\n",
    "        guess=lowval + (highval-lowval) //2 #mid value\n",
    "        if guess==num:\n",
    "            return count\n",
    "        elif guess>randnum:         #lower half of numbers i.e. between lower value range and guess\n",
    "            count=count+1\n",
    "            return cpuguess(lowval,guess-1,randnum,count)\n",
    "        else:\n",
    "            count=count+1             #upper set of numbers i.e. between higher value range and guess    \n",
    "            return cpuguess(guess+1,highval,randnum,count)\n",
    "    else:\n",
    "        return -1  #number not found\n",
    "count=0\n",
    "guess=0\n",
    "num=rd.randint(1,101)\n",
    "while(guess!=num):\n",
    "    guess=int(input(\"Enter your guess between 1 and 100:\"))\n",
    "    if guess<num:\n",
    "        print(\"Lower Number Guessed\")\n",
    "    elif guess>num:\n",
    "        print(\"Higher Number Guessed\")\n",
    "    else:\n",
    "        print(\"Congrats!Your Number Matched\")\n",
    "        break\n",
    "    count=count+1\n",
    "print(\"You took \"+ str(count) + \" steps to guess right number\")\n",
    "print(\"computer took \"+ str(cpuguess(0,100,num))+ \" steps!\")\n"
   ]
  },
  {
   "cell_type": "code",
   "execution_count": null,
   "metadata": {},
   "outputs": [],
   "source": []
  }
 ],
 "metadata": {
  "kernelspec": {
   "display_name": "Python 3",
   "language": "python",
   "name": "python3"
  },
  "language_info": {
   "codemirror_mode": {
    "name": "ipython",
    "version": 3
   },
   "file_extension": ".py",
   "mimetype": "text/x-python",
   "name": "python",
   "nbconvert_exporter": "python",
   "pygments_lexer": "ipython3",
   "version": "3.7.6"
  }
 },
 "nbformat": 4,
 "nbformat_minor": 4
}
